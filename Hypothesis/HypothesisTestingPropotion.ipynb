{
 "cells": [
  {
   "cell_type": "code",
   "execution_count": 197,
   "metadata": {},
   "outputs": [],
   "source": [
    "# Load the libraries\n",
    "import pandas as pd\n",
    "import numpy as np\n",
    "from scipy.stats import binom_test"
   ]
  },
  {
   "cell_type": "code",
   "execution_count": 2,
   "metadata": {},
   "outputs": [],
   "source": [
    "df = pd.read_csv(\"https://gist.githubusercontent.com/seankross/a412dfbd88b3db70b74b/raw/5f23f993cd87c283ce766e7ac6b329ee7cc2e1d1/mtcars.csv\")"
   ]
  },
  {
   "cell_type": "code",
   "execution_count": 3,
   "metadata": {},
   "outputs": [
    {
     "data": {
      "text/html": [
       "<div>\n",
       "<style scoped>\n",
       "    .dataframe tbody tr th:only-of-type {\n",
       "        vertical-align: middle;\n",
       "    }\n",
       "\n",
       "    .dataframe tbody tr th {\n",
       "        vertical-align: top;\n",
       "    }\n",
       "\n",
       "    .dataframe thead th {\n",
       "        text-align: right;\n",
       "    }\n",
       "</style>\n",
       "<table border=\"1\" class=\"dataframe\">\n",
       "  <thead>\n",
       "    <tr style=\"text-align: right;\">\n",
       "      <th></th>\n",
       "      <th>model</th>\n",
       "      <th>mpg</th>\n",
       "      <th>cyl</th>\n",
       "      <th>disp</th>\n",
       "      <th>hp</th>\n",
       "      <th>drat</th>\n",
       "      <th>wt</th>\n",
       "      <th>qsec</th>\n",
       "      <th>vs</th>\n",
       "      <th>am</th>\n",
       "      <th>gear</th>\n",
       "      <th>carb</th>\n",
       "    </tr>\n",
       "  </thead>\n",
       "  <tbody>\n",
       "    <tr>\n",
       "      <th>0</th>\n",
       "      <td>Mazda RX4</td>\n",
       "      <td>21.0</td>\n",
       "      <td>6</td>\n",
       "      <td>160.0</td>\n",
       "      <td>110</td>\n",
       "      <td>3.90</td>\n",
       "      <td>2.620</td>\n",
       "      <td>16.46</td>\n",
       "      <td>0</td>\n",
       "      <td>1</td>\n",
       "      <td>4</td>\n",
       "      <td>4</td>\n",
       "    </tr>\n",
       "    <tr>\n",
       "      <th>1</th>\n",
       "      <td>Mazda RX4 Wag</td>\n",
       "      <td>21.0</td>\n",
       "      <td>6</td>\n",
       "      <td>160.0</td>\n",
       "      <td>110</td>\n",
       "      <td>3.90</td>\n",
       "      <td>2.875</td>\n",
       "      <td>17.02</td>\n",
       "      <td>0</td>\n",
       "      <td>1</td>\n",
       "      <td>4</td>\n",
       "      <td>4</td>\n",
       "    </tr>\n",
       "    <tr>\n",
       "      <th>2</th>\n",
       "      <td>Datsun 710</td>\n",
       "      <td>22.8</td>\n",
       "      <td>4</td>\n",
       "      <td>108.0</td>\n",
       "      <td>93</td>\n",
       "      <td>3.85</td>\n",
       "      <td>2.320</td>\n",
       "      <td>18.61</td>\n",
       "      <td>1</td>\n",
       "      <td>1</td>\n",
       "      <td>4</td>\n",
       "      <td>1</td>\n",
       "    </tr>\n",
       "    <tr>\n",
       "      <th>3</th>\n",
       "      <td>Hornet 4 Drive</td>\n",
       "      <td>21.4</td>\n",
       "      <td>6</td>\n",
       "      <td>258.0</td>\n",
       "      <td>110</td>\n",
       "      <td>3.08</td>\n",
       "      <td>3.215</td>\n",
       "      <td>19.44</td>\n",
       "      <td>1</td>\n",
       "      <td>0</td>\n",
       "      <td>3</td>\n",
       "      <td>1</td>\n",
       "    </tr>\n",
       "    <tr>\n",
       "      <th>4</th>\n",
       "      <td>Hornet Sportabout</td>\n",
       "      <td>18.7</td>\n",
       "      <td>8</td>\n",
       "      <td>360.0</td>\n",
       "      <td>175</td>\n",
       "      <td>3.15</td>\n",
       "      <td>3.440</td>\n",
       "      <td>17.02</td>\n",
       "      <td>0</td>\n",
       "      <td>0</td>\n",
       "      <td>3</td>\n",
       "      <td>2</td>\n",
       "    </tr>\n",
       "  </tbody>\n",
       "</table>\n",
       "</div>"
      ],
      "text/plain": [
       "               model   mpg  cyl   disp   hp  drat     wt   qsec  vs  am  gear  \\\n",
       "0          Mazda RX4  21.0    6  160.0  110  3.90  2.620  16.46   0   1     4   \n",
       "1      Mazda RX4 Wag  21.0    6  160.0  110  3.90  2.875  17.02   0   1     4   \n",
       "2         Datsun 710  22.8    4  108.0   93  3.85  2.320  18.61   1   1     4   \n",
       "3     Hornet 4 Drive  21.4    6  258.0  110  3.08  3.215  19.44   1   0     3   \n",
       "4  Hornet Sportabout  18.7    8  360.0  175  3.15  3.440  17.02   0   0     3   \n",
       "\n",
       "   carb  \n",
       "0     4  \n",
       "1     4  \n",
       "2     1  \n",
       "3     1  \n",
       "4     2  "
      ]
     },
     "execution_count": 3,
     "metadata": {},
     "output_type": "execute_result"
    }
   ],
   "source": [
    "df.head()"
   ]
  },
  {
   "cell_type": "markdown",
   "metadata": {},
   "source": []
  },
  {
   "cell_type": "markdown",
   "metadata": {},
   "source": [
    "## z-test\n",
    "\n",
    "Z-test is a test for the proportions. In other words this is a statistical test that helps us evaluate our beliefs about certain proportions in the population based on the sample at hand. \n",
    "\n",
    "In the simplest example involving the data at hand, \n",
    "- we can ask the question whether the share of cars with variable “am” being equal to 0 is equal to 50%.\n",
    "\n",
    "\n",
    "Function used for z-testing is scipy.stats.binom_test. \n",
    "- It requires three arguments \n",
    "- - x - number of qualified observations in our data (19 in our case) \n",
    "- - n - number of total observations (32 in our case)\n",
    "- - p - the null hypothesis on the share of qualified data (0.5 in our case)"
   ]
  },
  {
   "cell_type": "code",
   "execution_count": 28,
   "metadata": {},
   "outputs": [],
   "source": [
    "# In order to conduct a test we need our three inputs.\n",
    "# Nul hypotheses is whether the share of cars with am=0 is equal to 50%. This (0.5 - a share!) is out first input (p).\n",
    "# The two other inputs are the number of total observations in our dataset (n) and the number of observations satisfying the condition we are testing for [i.e. am=0] (x)\n",
    "# We can get both of this information by diplaying (not plotting!) a simple frequency distribution of our am variable\n",
    "# We can do this by using .value_counts() function\n"
   ]
  },
  {
   "cell_type": "code",
   "execution_count": 5,
   "metadata": {},
   "outputs": [
    {
     "data": {
      "text/plain": [
       "0    19\n",
       "1    13\n",
       "Name: am, dtype: int64"
      ]
     },
     "execution_count": 5,
     "metadata": {},
     "output_type": "execute_result"
    }
   ],
   "source": [
    "df['am'].value_counts()"
   ]
  },
  {
   "cell_type": "markdown",
   "metadata": {},
   "source": [
    "Null Hypo: Claim that the share of cars with am=0 is  50% in the population.\n",
    "\n",
    "Alternative Hyp: Claim that the share of cars with am=0 is not  50% in the population."
   ]
  },
  {
   "cell_type": "code",
   "execution_count": 47,
   "metadata": {},
   "outputs": [
    {
     "name": "stdout",
     "output_type": "stream",
     "text": [
      "Dividing 1.4615384615384615\n",
      "Observed ratio from population 0.6842105263157894\n"
     ]
    }
   ],
   "source": [
    "# This shows that x=19.\n",
    "# By adding all frequencies, we can get the total number of observations in the dataset (n=32)\n",
    "# Now we are ready to run the test (i.e. calculating the p-value of our test):\n",
    "print(f'Dividing {19/13}')\n",
    "\n",
    "print(f'Observed ratio from population {32/19-1}')\n",
    "alpha = 0.05"
   ]
  },
  {
   "cell_type": "markdown",
   "metadata": {},
   "source": [
    "Output of the test gives rich information about the test:\n",
    "\n",
    "- It specifies the alternative hypothesis (by default it is set to conduct a two-sided test, so the alternative hypothesis is that the share is not equal to the proportion specified in the null hypotheses. \n",
    "- It specifies the confidence level and interval\n",
    "- However, by default, it only returns the most important piece of information - the p-value of the test"
   ]
  },
  {
   "cell_type": "code",
   "execution_count": 164,
   "metadata": {},
   "outputs": [
    {
     "name": "stdout",
     "output_type": "stream",
     "text": [
      "0.37708558747544885\n"
     ]
    }
   ],
   "source": [
    "p_val = binom_test(x = 19, n = 32, p = 0.5, alternative=\"two-sided\")#Two sided is default\n",
    "print(p_val)"
   ]
  },
  {
   "cell_type": "code",
   "execution_count": 165,
   "metadata": {},
   "outputs": [
    {
     "name": "stdout",
     "output_type": "stream",
     "text": [
      "*****With 0.3771 as P and Alpha being 0.05*****\n",
      "\n",
      "Acceptance for Null Hypo!! Go Think again!!, We are with Satus QUO Ho\n"
     ]
    }
   ],
   "source": [
    "def sig_test( P_val, Alpha=0.05):\n",
    "    print(f'*****With {P_val:.4f} as P and Alpha being {Alpha}*****\\n')\n",
    "    if P_val > Alpha:\n",
    "        print('Acceptance for Null Hypo!! Go Think again!!, We are with Satus QUO Ho')\n",
    "    else:\n",
    "        print('Congrats Aplha was not breached, Your are right, Ha!!')\n",
    "        \n",
    "sig_test(p_val,Alpha=0.05)      "
   ]
  },
  {
   "cell_type": "markdown",
   "metadata": {},
   "source": [
    "This value can be understood as the probability that we are making a mistake if we reject our null hypothesis in favor of the alternative one. In this case this probability is 38% which is very high (anything above 10% is high), \n",
    "\n",
    "which would prompt us to conclude that we do not have enough statistical evidence to claim that the share of cars with am=0 was not 50% in the population."
   ]
  },
  {
   "cell_type": "markdown",
   "metadata": {},
   "source": [
    "#### Ha: claim that the share of cars with less than 6 cylinders is not 60%\n",
    "- Note: P is passed as 0.6"
   ]
  },
  {
   "cell_type": "code",
   "execution_count": 122,
   "metadata": {},
   "outputs": [
    {
     "name": "stdout",
     "output_type": "stream",
     "text": [
      "8    14\n",
      "4    11\n",
      "6     7\n",
      "Name: cyl, dtype: int64\n",
      "Observed ratio from population 1.9090909090909092\n"
     ]
    }
   ],
   "source": [
    "print(df.cyl.value_counts())#x = df[df['cyl']<6]['cyl'].count()\n",
    "print(f'Observed ratio from population {32/11-1}')\n",
    "alpha = 0.05"
   ]
  },
  {
   "cell_type": "code",
   "execution_count": 160,
   "metadata": {},
   "outputs": [],
   "source": [
    "# Calculate how many cars in the dataset have less than 6 cylinders\n",
    "p_value = binom_test(x = 11, n = 32, p = 0.6, alternative=\"two-sided\")#Two sided is default"
   ]
  },
  {
   "cell_type": "code",
   "execution_count": 162,
   "metadata": {},
   "outputs": [
    {
     "name": "stdout",
     "output_type": "stream",
     "text": [
      "*****With 0.0037 as P and Alpha being 0.05*****\n",
      "\n",
      "Congrats Aplha was not breached, Your are right, Ha!!\n",
      "Accept Ha: Cars with 6 cylinders is not 60%\n"
     ]
    }
   ],
   "source": [
    "sig_test(p_value)\n",
    "\n",
    "print('Accept Ha: Cars with 6 cylinders is not 60%')"
   ]
  },
  {
   "cell_type": "code",
   "execution_count": 143,
   "metadata": {},
   "outputs": [
    {
     "name": "stdout",
     "output_type": "stream",
     "text": [
      "*****With 0.8923 as P and Alpha being 0.05*****\n",
      "\n",
      "Acceptance for Null Hypo!! Go Think again!!, We are with Satus QUO Ho\n"
     ]
    }
   ],
   "source": [
    "''' perform the same test with specifying \"less\" as an alternative hypothesis'''\n",
    "Ha = '50% of cars are with less than AM of 0 '\n",
    "p_value = binom_test(x=19, n=32, p=0.5, alternative=\"less\")\n",
    "sig_test(p_value)"
   ]
  },
  {
   "cell_type": "code",
   "execution_count": 147,
   "metadata": {},
   "outputs": [
    {
     "name": "stdout",
     "output_type": "stream",
     "text": [
      "%Age of AM cars of zero is  59.38\n",
      "\n",
      "*****With 0.8923 as P and Alpha being 0.05*****\n",
      "\n",
      "Acceptance for Null Hypo!! Go Think again!!, We are with Satus QUO Ho\n"
     ]
    },
    {
     "data": {
      "text/plain": [
       "' We conclude that there is no statistical evidence to go with Assumption that AM cars is less than 50% '"
      ]
     },
     "execution_count": 147,
     "metadata": {},
     "output_type": "execute_result"
    }
   ],
   "source": [
    "'''perform the test checking whether the share of am=0 cars is less than 0.5'''\n",
    "AM_Cars = 19\n",
    "Total = 32\n",
    "print(f'%Age of AM cars of zero is  {AM_Cars/Total*100:.2f}\\n')\n",
    "p_value = binom_test(x=19, n=32, p=0.5, alternative=\"less\")\n",
    "sig_test(p_value)\n",
    "\n",
    "''' We conclude that there is no statistical evidence to go with Assumption that AM cars is less than 50% '''\n"
   ]
  },
  {
   "cell_type": "code",
   "execution_count": 148,
   "metadata": {},
   "outputs": [
    {
     "name": "stdout",
     "output_type": "stream",
     "text": [
      "%Age of AM cars of zero is  59.38\n",
      "\n",
      "*****With 0.1885 as P and Alpha being 0.05*****\n",
      "\n",
      "Acceptance for Null Hypo!! Go Think again!!, We are with Satus QUO Ho\n"
     ]
    }
   ],
   "source": [
    "''' perform the t-test checking whether the share of am=0 cars is greater than 0.5 '''\n",
    "AM_Cars = 19\n",
    "Total = 32\n",
    "print(f'%Age of AM cars of zero is  {AM_Cars/Total*100:.2f}\\n')\n",
    "p_value = binom_test(x=19, n=32, p=0.5, alternative=\"greater\")\n",
    "sig_test(p_value)"
   ]
  },
  {
   "cell_type": "code",
   "execution_count": 153,
   "metadata": {},
   "outputs": [
    {
     "name": "stdout",
     "output_type": "stream",
     "text": [
      "%Age of AM cars of zero is  34.38\n",
      "\n",
      "*****With 0.0411 as P and Alpha being 0.05*****\n",
      "\n",
      "Congrats Aplha was not breached, Your are right, Ha!!\n"
     ]
    },
    {
     "data": {
      "text/plain": [
       "\"Emperically we also see that it's 34.38, meaning this is significance!! when compared to 20%.\\n   Change P to 30 and see if going with emperical data is good way of thinking \""
      ]
     },
     "execution_count": 153,
     "metadata": {},
     "output_type": "execute_result"
    }
   ],
   "source": [
    "''' perform the t-test checking whether the share of cars with less than 6 cylinders is greater than 20% '''\n",
    "LessThan6= 11\n",
    "Total = 32\n",
    "print(f'%Age of AM cars of zero is  {LessThan6/Total*100:.2f}\\n')\n",
    "p_value = binom_test(x=11, n=32, p=0.20, alternative=\"greater\")\n",
    "sig_test(p_value)\n",
    "\n",
    "'''Emperically we also see that it's 34.38, meaning this is significance!! when compared to 20%.\n",
    "   Change P to 30 and see if going with emperical data is good way of thinking '''"
   ]
  },
  {
   "cell_type": "code",
   "execution_count": 171,
   "metadata": {},
   "outputs": [],
   "source": [
    "# Importing packages\n",
    "import seaborn as sns\n",
    "from statsmodels.stats.weightstats import DescrStatsW as smstat\n",
    "\n",
    "# Loading the data\n",
    "df = sns.load_dataset(\"iris\")"
   ]
  },
  {
   "cell_type": "markdown",
   "metadata": {},
   "source": [
    "The function we will need is ttest_mean from statsmodels.stats.weightstats.DescrStatsW. This is a two-sided test for the \n",
    "\n",
    "- null hypothesis that the expected value (mean) of a sample of independent observations a is equal to the given population mean, popmean.\n",
    "- It will output \n",
    "- - t-statistics, \n",
    "- - p-value \n",
    "- - and degrees of freedom (in this sequence) as a result.\n",
    "\n",
    "Except that now, instead of calculating the number of observations qualifying of the test by hand (which we did in case of z-test), we can pass the variable we want to test to the function DescrStatsW and then run the function ttest_mean.\n",
    "\n",
    "One can also specify the different alternative hypothesis in this check such as, two-sided (default), larger and smaller"
   ]
  },
  {
   "cell_type": "code",
   "execution_count": 170,
   "metadata": {},
   "outputs": [
    {
     "data": {
      "text/html": [
       "<div>\n",
       "<style scoped>\n",
       "    .dataframe tbody tr th:only-of-type {\n",
       "        vertical-align: middle;\n",
       "    }\n",
       "\n",
       "    .dataframe tbody tr th {\n",
       "        vertical-align: top;\n",
       "    }\n",
       "\n",
       "    .dataframe thead th {\n",
       "        text-align: right;\n",
       "    }\n",
       "</style>\n",
       "<table border=\"1\" class=\"dataframe\">\n",
       "  <thead>\n",
       "    <tr style=\"text-align: right;\">\n",
       "      <th></th>\n",
       "      <th>sepal_length</th>\n",
       "      <th>sepal_width</th>\n",
       "      <th>petal_length</th>\n",
       "      <th>petal_width</th>\n",
       "    </tr>\n",
       "  </thead>\n",
       "  <tbody>\n",
       "    <tr>\n",
       "      <th>count</th>\n",
       "      <td>150.000000</td>\n",
       "      <td>150.000000</td>\n",
       "      <td>150.000000</td>\n",
       "      <td>150.000000</td>\n",
       "    </tr>\n",
       "    <tr>\n",
       "      <th>mean</th>\n",
       "      <td>5.843333</td>\n",
       "      <td>3.057333</td>\n",
       "      <td>3.758000</td>\n",
       "      <td>1.199333</td>\n",
       "    </tr>\n",
       "    <tr>\n",
       "      <th>std</th>\n",
       "      <td>0.828066</td>\n",
       "      <td>0.435866</td>\n",
       "      <td>1.765298</td>\n",
       "      <td>0.762238</td>\n",
       "    </tr>\n",
       "    <tr>\n",
       "      <th>min</th>\n",
       "      <td>4.300000</td>\n",
       "      <td>2.000000</td>\n",
       "      <td>1.000000</td>\n",
       "      <td>0.100000</td>\n",
       "    </tr>\n",
       "    <tr>\n",
       "      <th>25%</th>\n",
       "      <td>5.100000</td>\n",
       "      <td>2.800000</td>\n",
       "      <td>1.600000</td>\n",
       "      <td>0.300000</td>\n",
       "    </tr>\n",
       "    <tr>\n",
       "      <th>50%</th>\n",
       "      <td>5.800000</td>\n",
       "      <td>3.000000</td>\n",
       "      <td>4.350000</td>\n",
       "      <td>1.300000</td>\n",
       "    </tr>\n",
       "    <tr>\n",
       "      <th>75%</th>\n",
       "      <td>6.400000</td>\n",
       "      <td>3.300000</td>\n",
       "      <td>5.100000</td>\n",
       "      <td>1.800000</td>\n",
       "    </tr>\n",
       "    <tr>\n",
       "      <th>max</th>\n",
       "      <td>7.900000</td>\n",
       "      <td>4.400000</td>\n",
       "      <td>6.900000</td>\n",
       "      <td>2.500000</td>\n",
       "    </tr>\n",
       "  </tbody>\n",
       "</table>\n",
       "</div>"
      ],
      "text/plain": [
       "       sepal_length  sepal_width  petal_length  petal_width\n",
       "count    150.000000   150.000000    150.000000   150.000000\n",
       "mean       5.843333     3.057333      3.758000     1.199333\n",
       "std        0.828066     0.435866      1.765298     0.762238\n",
       "min        4.300000     2.000000      1.000000     0.100000\n",
       "25%        5.100000     2.800000      1.600000     0.300000\n",
       "50%        5.800000     3.000000      4.350000     1.300000\n",
       "75%        6.400000     3.300000      5.100000     1.800000\n",
       "max        7.900000     4.400000      6.900000     2.500000"
      ]
     },
     "execution_count": 170,
     "metadata": {},
     "output_type": "execute_result"
    }
   ],
   "source": [
    "df.describe()"
   ]
  },
  {
   "cell_type": "code",
   "execution_count": 178,
   "metadata": {},
   "outputs": [
    {
     "name": "stdout",
     "output_type": "stream",
     "text": [
      "*****With 0.0004 as P and Alpha being 0.05*****\n",
      "\n",
      "Congrats Aplha was not breached, Your are right, Ha!!\n"
     ]
    }
   ],
   "source": [
    "# Perform the two sided t-test on sepal length with null hypotheses of mean being equal to 5.6\n",
    "# First we need to specify the data and then run the function ttest_mean with the mean we want to check against\n",
    "t, p, d = smstat(df.sepal_length).ttest_mean(5.6)\n",
    "sig_test(p)"
   ]
  },
  {
   "cell_type": "code",
   "execution_count": 179,
   "metadata": {},
   "outputs": [
    {
     "name": "stdout",
     "output_type": "stream",
     "text": [
      "*****With 0.1093 as P and Alpha being 0.05*****\n",
      "\n",
      "Acceptance for Null Hypo!! Go Think again!!, We are with Satus QUO Ho\n"
     ]
    }
   ],
   "source": [
    "# Perform the t-test on sepal width with the null hypotheses of mean being equal to 3\n",
    "t, p, d = smstat(df.sepal_width).ttest_mean(3)\n",
    "sig_test(p)"
   ]
  },
  {
   "cell_type": "code",
   "execution_count": 180,
   "metadata": {},
   "outputs": [
    {
     "name": "stdout",
     "output_type": "stream",
     "text": [
      "*****With 0.0002 as P and Alpha being 0.05*****\n",
      "\n",
      "Congrats Aplha was not breached, Your are right, Ha!!\n"
     ]
    }
   ],
   "source": [
    "# Perform the t-test on sepal length with the mean being equal to 5.6 and the alternative hypothesis: the mean of sepal length being greater than null hypothesis\n",
    "t, p, d = smstat(df.sepal_length).ttest_mean(5.6, alternative = \"larger\")\n",
    "sig_test(p)"
   ]
  },
  {
   "cell_type": "code",
   "execution_count": 181,
   "metadata": {},
   "outputs": [
    {
     "name": "stdout",
     "output_type": "stream",
     "text": [
      "*****With 0.0000 as P and Alpha being 0.05*****\n",
      "\n",
      "Congrats Aplha was not breached, Your are right, Ha!!\n"
     ]
    }
   ],
   "source": [
    "# Perform the t-test on sepal length with the mean being equal to 5.6 and the alternative hypothesis: the mean of sepal length being smaller than 5.6\n",
    "t, p, d = smstat(df.sepal_width).ttest_mean(5.6, alternative = \"smaller\")\n",
    "sig_test(p)"
   ]
  },
  {
   "cell_type": "markdown",
   "metadata": {},
   "source": [
    "### Two Sample T -test\n",
    "\n",
    "T-test can also be used to compare characteristics of two independent samples. For this, we will use ttest_ind function from scipy.stats \n",
    "\n",
    "In our case we could compare characteristics of two different species of iris. Say, setosa and versicolor. (attention on new code part)\n",
    "\n",
    "We could compare petal_length, sepal_length, petal_width or sepal_width."
   ]
  },
  {
   "cell_type": "code",
   "execution_count": 182,
   "metadata": {},
   "outputs": [],
   "source": [
    "# Importing the libraries\n",
    "import pandas as pd\n",
    "import seaborn as sns\n",
    "from scipy.stats import ttest_ind as tind\n",
    "\n",
    "# Loading the data\n",
    "df = sns.load_dataset(\"iris\")"
   ]
  },
  {
   "cell_type": "code",
   "execution_count": 183,
   "metadata": {},
   "outputs": [],
   "source": [
    "# Separating two samples into different data frames\n",
    "df1 = df[df.species == 'setosa']\n",
    "df2 = df[df.species == 'versicolor']"
   ]
  },
  {
   "cell_type": "code",
   "execution_count": 184,
   "metadata": {},
   "outputs": [
    {
     "data": {
      "text/plain": [
       "Ttest_indResult(statistic=-39.492719391538095, pvalue=5.404910513441677e-62)"
      ]
     },
     "execution_count": 184,
     "metadata": {},
     "output_type": "execute_result"
    }
   ],
   "source": [
    "# Comparing petal length of the two species\n",
    "tind(df1.petal_length, df2.petal_length)"
   ]
  },
  {
   "cell_type": "code",
   "execution_count": 185,
   "metadata": {},
   "outputs": [
    {
     "data": {
      "text/plain": [
       "Ttest_indResult(statistic=-34.08034154357719, pvalue=3.831095388248162e-56)"
      ]
     },
     "execution_count": 185,
     "metadata": {},
     "output_type": "execute_result"
    }
   ],
   "source": [
    "# Compare petal width of the two species\n",
    "tind(df1.petal_width, df2.petal_width)"
   ]
  },
  {
   "cell_type": "markdown",
   "metadata": {},
   "source": [
    "The paired t-test, also referred to as the paired-samples t-test or dependent t-test, is used to determine whether the mean of a dependent variable (e.g., weight, anxiety level, salary, reaction time, etc.) is the same across two different situations within the same sample (e.g., blood pressure before, and after the treatment, average grade in one course vs. average grade in another course for the same class). "
   ]
  },
  {
   "cell_type": "code",
   "execution_count": 207,
   "metadata": {},
   "outputs": [
    {
     "data": {
      "text/plain": [
       "(-2.0281866477167547, 0.036574210314534394, 9.0)"
      ]
     },
     "execution_count": 207,
     "metadata": {},
     "output_type": "execute_result"
    }
   ],
   "source": [
    "# importing the libraries\n",
    "import numpy as np\n",
    "from statsmodels.stats.weightstats import DescrStatsW as smstat\n",
    "\n",
    "# Let's create our dataset.\n",
    "# Create numpy array with weights of our pacients before the treatment\n",
    "before = np.array([82.0, 90.2, 92.7, 113, 101.4, 96.9, 72.2, 85.5, 105.2, 93.7])\n",
    "\n",
    "# Create numpy array (called \"after\") with weights of the pacients after the treatment with following values 392.9, 393.2, 345.1, 393, 434, 427.9, 422, 383.9, 392.3, 352.2\n",
    "after = np.array([80.9, 91.2, 85.1, 103, 102, 97.9, 72, 83.9, 92.3, 92.2])\n",
    "\n",
    "# Notice that the order of the patients should be the same across two arrais.\n",
    "\n",
    "# create the numpy array (called \"difference\") that would calculate the difference in weights between before and after treatment for each patient (by subtracting weights before treatment from those after the treatment)\n",
    "difference = after - before\n",
    "\n",
    "# Perform a two sided paired t-test between weights before and after\n",
    "smstat(difference).ttest_mean(0)\n",
    "\n",
    "# Test whether we have any statistical evidence that patients loose weight after treatment\n",
    "smstat(difference).ttest_mean(0, alternative=\"smaller\")"
   ]
  },
  {
   "cell_type": "code",
   "execution_count": null,
   "metadata": {},
   "outputs": [],
   "source": []
  }
 ],
 "metadata": {
  "kernelspec": {
   "display_name": "Python 3",
   "language": "python",
   "name": "python3"
  },
  "language_info": {
   "codemirror_mode": {
    "name": "ipython",
    "version": 3
   },
   "file_extension": ".py",
   "mimetype": "text/x-python",
   "name": "python",
   "nbconvert_exporter": "python",
   "pygments_lexer": "ipython3",
   "version": "3.8.5"
  }
 },
 "nbformat": 4,
 "nbformat_minor": 4
}
